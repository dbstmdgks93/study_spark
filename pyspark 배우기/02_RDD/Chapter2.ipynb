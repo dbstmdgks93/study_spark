{
 "cells": [
  {
   "cell_type": "code",
   "execution_count": 38,
   "metadata": {},
   "outputs": [
    {
     "data": {
      "text/html": [
       "\n",
       "        <div>\n",
       "            <p><b>SparkContext</b></p>\n",
       "\n",
       "            <p><a href=\"http://DESKTOP-9BM9BRC:4040\">Spark UI</a></p>\n",
       "\n",
       "            <dl>\n",
       "              <dt>Version</dt>\n",
       "                <dd><code>v2.4.4</code></dd>\n",
       "              <dt>Master</dt>\n",
       "                <dd><code>local[*]</code></dd>\n",
       "              <dt>AppName</dt>\n",
       "                <dd><code>PySparkShell</code></dd>\n",
       "            </dl>\n",
       "        </div>\n",
       "        "
      ],
      "text/plain": [
       "<SparkContext master=local[*] appName=PySparkShell>"
      ]
     },
     "execution_count": 38,
     "metadata": {},
     "output_type": "execute_result"
    }
   ],
   "source": [
    "sc"
   ]
  },
  {
   "cell_type": "code",
   "execution_count": 39,
   "metadata": {},
   "outputs": [
    {
     "data": {
      "text/html": [
       "\n",
       "            <div>\n",
       "                <p><b>SparkSession - hive</b></p>\n",
       "                \n",
       "        <div>\n",
       "            <p><b>SparkContext</b></p>\n",
       "\n",
       "            <p><a href=\"http://DESKTOP-9BM9BRC:4040\">Spark UI</a></p>\n",
       "\n",
       "            <dl>\n",
       "              <dt>Version</dt>\n",
       "                <dd><code>v2.4.4</code></dd>\n",
       "              <dt>Master</dt>\n",
       "                <dd><code>local[*]</code></dd>\n",
       "              <dt>AppName</dt>\n",
       "                <dd><code>PySparkShell</code></dd>\n",
       "            </dl>\n",
       "        </div>\n",
       "        \n",
       "            </div>\n",
       "        "
      ],
      "text/plain": [
       "<pyspark.sql.session.SparkSession at 0x18e895a8d08>"
      ]
     },
     "execution_count": 39,
     "metadata": {},
     "output_type": "execute_result"
    }
   ],
   "source": [
    "spark"
   ]
  },
  {
   "cell_type": "markdown",
   "metadata": {},
   "source": [
    "## RDD 생성하기\n",
    "pyspark에서 RDD를 생성하는 방법은 두 가지이다."
   ]
  },
  {
   "cell_type": "code",
   "execution_count": 5,
   "metadata": {},
   "outputs": [],
   "source": [
    "data = sc.parallelize(\n",
    "    [('Amber', 22), ('Alfred', 23), ('Skye',4), ('Albert', 12), \n",
    "     ('Amber', 9)])"
   ]
  },
  {
   "cell_type": "markdown",
   "metadata": {},
   "source": [
    "위와 같이 collection에 대해 parallelize() 함수를 수행하거나, 외부 어딘가 또는 특정 위치에 저장된 파일을 읽을 수 있다."
   ]
  },
  {
   "cell_type": "code",
   "execution_count": 6,
   "metadata": {},
   "outputs": [],
   "source": [
    "data_from_file = sc.textFile(\"VS14MORT.txt.gz\",4)"
   ]
  },
  {
   "cell_type": "markdown",
   "metadata": {},
   "source": [
    "데이터 다운로드 : http://tomdrabas.com/data/VS14MORT.txt.gz \n",
    "\n",
    "sc.textFile(...,n) 의 마지막 매개변수 n은 데이터셋이 나눠진 파티션의 개수를 의미한다. 책의 저자에 따르면 한 클러스터에서는 2~4개의 파티션으로 데이터셋을 나누는 것이 가장 좋다고 한다.\n",
    "\n",
    "스파크는 NTFS, FAT, Mac OS Extended 또는 HDFS, S3, 카산드라 등의 분산파일시스템과 같은 여러 개의 파일시스템으로부터 데이터를 읽을 수 있다.\n",
    "\n",
    "여러 가지 데이터 포맷이 지원된다. 텍스트, 파케이, JSON, 하이브테이블 그리고 관계형 데이터베이스에서의 데이터는 JDBC 드라이버로 읽을 수 있다. 스파크는 압축된 데이터셋도 읽어서 작업할 수 있다.\n",
    "\n",
    "데이터가 어떻게 읽히느냐에 따라서, 데이터를 지니고 있는 객체는 조금씩 다르게 표현된다. 데이터가 읽히는 파일은 MapPartitionsRDD로 표현된다. 컬렉션에 대해 .parallelize() 함수를 돌릴 때처럼 ParallelCollectionRDD를 사용하지 않는다."
   ]
  },
  {
   "cell_type": "markdown",
   "metadata": {},
   "source": [
    "## Schema"
   ]
  },
  {
   "cell_type": "markdown",
   "metadata": {},
   "source": [
    "DataFrame과 달리 RDD는 schema-less 데이터 구조이다. 그러므로 RDD를 사용할 때 데이터셋을 병렬 처리하는 것은 전혀 문제가 되지 않는다."
   ]
  },
  {
   "cell_type": "code",
   "execution_count": 7,
   "metadata": {},
   "outputs": [
    {
     "data": {
      "text/plain": [
       "[('Ferrari', 'fast'), {'Porsche': 100000}, ['Spain', 'visited', 4504]]"
      ]
     },
     "execution_count": 7,
     "metadata": {},
     "output_type": "execute_result"
    }
   ],
   "source": [
    "data_heterogenous = sc.parallelize([('Ferrari', 'fast'), {'Porsche': 100000}, ['Spain','visited', 4504]]).collect()\n",
    "data_heterogenous"
   ]
  },
  {
   "cell_type": "markdown",
   "metadata": {},
   "source": [
    "그래서 tuple, dict, list 와 같은 거의 모든 데이터 구조를 섞을 수 있고, 이는 스파크에서 전혀 문제가 되지 않는다. 데이터셋에 대해 .collect() 함수를 수행하면(즉, 데이터셋을 드라이버에 다시 가져오기 위해 액션을 수행하면) 파이썬에서 일반적으로 했던 방식대로 객체 내의 데이터에 접근할 수 있다."
   ]
  },
  {
   "cell_type": "code",
   "execution_count": 8,
   "metadata": {},
   "outputs": [
    {
     "data": {
      "text/plain": [
       "100000"
      ]
     },
     "execution_count": 8,
     "metadata": {},
     "output_type": "execute_result"
    }
   ],
   "source": [
    "data_heterogenous[1]['Porsche']"
   ]
  },
  {
   "cell_type": "markdown",
   "metadata": {},
   "source": [
    ".collect() 함수는 RDD의 모든 엘리먼트를 드라이버에 리턴하고, 드라이버에서 엘리먼트들은 리스트로 나열된다."
   ]
  },
  {
   "cell_type": "markdown",
   "metadata": {},
   "source": [
    "## 파일로부터 데이터 읽기"
   ]
  },
  {
   "cell_type": "markdown",
   "metadata": {},
   "source": [
    "텍스트 파일로부터 데이터를 읽을 때, 파일의 각 행이 RDD의 한 엘리먼트를 이룬다."
   ]
  },
  {
   "cell_type": "code",
   "execution_count": 9,
   "metadata": {},
   "outputs": [
    {
     "data": {
      "text/plain": [
       "['                   1                                          2101  M1087 432311  4M4                2014U7CN                                    I64 238 070   24 0111I64                                                                                                                                                                           01 I64                                                                                                  01  11                                 100 601']"
      ]
     },
     "execution_count": 9,
     "metadata": {},
     "output_type": "execute_result"
    }
   ],
   "source": [
    "data_from_file.take(1)"
   ]
  },
  {
   "cell_type": "markdown",
   "metadata": {},
   "source": [
    "## 람다 표현\n",
    "책에서는 위의 표현이 보기 어렵다며 아래의 함수를 정의했다. 하지만 결과를 보면 그것도 딱히 보기 좋은 모양은 아니다."
   ]
  },
  {
   "cell_type": "code",
   "execution_count": 10,
   "metadata": {},
   "outputs": [],
   "source": [
    "def extractInformation(row):\n",
    "    import re\n",
    "    import numpy as np\n",
    "\n",
    "    selected_indices = [\n",
    "         2,4,5,6,7,9,10,11,12,13,14,15,16,17,18,\n",
    "         19,21,22,23,24,25,27,28,29,30,32,33,34,\n",
    "         36,37,38,39,40,41,42,43,44,45,46,47,48,\n",
    "         49,50,51,52,53,54,55,56,58,60,61,62,63,\n",
    "         64,65,66,67,68,69,70,71,72,73,74,75,76,\n",
    "         77,78,79,81,82,83,84,85,87,89\n",
    "    ]\n",
    "\n",
    "    '''\n",
    "        Input record schema\n",
    "        schema: n-m (o) -- xxx\n",
    "            n - position from\n",
    "            m - position to\n",
    "            o - number of characters\n",
    "            xxx - description\n",
    "        1. 1-19 (19) -- reserved positions\n",
    "        2. 20 (1) -- resident status\n",
    "        3. 21-60 (40) -- reserved positions\n",
    "        4. 61-62 (2) -- education code (1989 revision)\n",
    "        5. 63 (1) -- education code (2003 revision)\n",
    "        6. 64 (1) -- education reporting flag\n",
    "        7. 65-66 (2) -- month of death\n",
    "        8. 67-68 (2) -- reserved positions\n",
    "        9. 69 (1) -- sex\n",
    "        10. 70 (1) -- age: 1-years, 2-months, 4-days, 5-hours, 6-minutes, 9-not stated\n",
    "        11. 71-73 (3) -- number of units (years, months etc)\n",
    "        12. 74 (1) -- age substitution flag (if the age reported in positions 70-74 is calculated using dates of birth and death)\n",
    "        13. 75-76 (2) -- age recoded into 52 categories\n",
    "        14. 77-78 (2) -- age recoded into 27 categories\n",
    "        15. 79-80 (2) -- age recoded into 12 categories\n",
    "        16. 81-82 (2) -- infant age recoded into 22 categories\n",
    "        17. 83 (1) -- place of death\n",
    "        18. 84 (1) -- marital status\n",
    "        19. 85 (1) -- day of the week of death\n",
    "        20. 86-101 (16) -- reserved positions\n",
    "        21. 102-105 (4) -- current year\n",
    "        22. 106 (1) -- injury at work\n",
    "        23. 107 (1) -- manner of death\n",
    "        24. 108 (1) -- manner of disposition\n",
    "        25. 109 (1) -- autopsy\n",
    "        26. 110-143 (34) -- reserved positions\n",
    "        27. 144 (1) -- activity code\n",
    "        28. 145 (1) -- place of injury\n",
    "        29. 146-149 (4) -- ICD code\n",
    "        30. 150-152 (3) -- 358 cause recode\n",
    "        31. 153 (1) -- reserved position\n",
    "        32. 154-156 (3) -- 113 cause recode\n",
    "        33. 157-159 (3) -- 130 infant cause recode\n",
    "        34. 160-161 (2) -- 39 cause recode\n",
    "        35. 162 (1) -- reserved position\n",
    "        36. 163-164 (2) -- number of entity-axis conditions\n",
    "        37-56. 165-304 (140) -- list of up to 20 conditions\n",
    "        57. 305-340 (36) -- reserved positions\n",
    "        58. 341-342 (2) -- number of record axis conditions\n",
    "        59. 343 (1) -- reserved position\n",
    "        60-79. 344-443 (100) -- record axis conditions\n",
    "        80. 444 (1) -- reserve position\n",
    "        81. 445-446 (2) -- race\n",
    "        82. 447 (1) -- bridged race flag\n",
    "        83. 448 (1) -- race imputation flag\n",
    "        84. 449 (1) -- race recode (3 categories)\n",
    "        85. 450 (1) -- race recode (5 categories)\n",
    "        86. 461-483 (33) -- reserved positions\n",
    "        87. 484-486 (3) -- Hispanic origin\n",
    "        88. 487 (1) -- reserved\n",
    "        89. 488 (1) -- Hispanic origin/race recode\n",
    "     '''\n",
    "\n",
    "    record_split = re\\\n",
    "        .compile(\n",
    "            r'([\\s]{19})([0-9]{1})([\\s]{40})([0-9\\s]{2})([0-9\\s]{1})([0-9]{1})([0-9]{2})' + \n",
    "            r'([\\s]{2})([FM]{1})([0-9]{1})([0-9]{3})([0-9\\s]{1})([0-9]{2})([0-9]{2})' + \n",
    "            r'([0-9]{2})([0-9\\s]{2})([0-9]{1})([SMWDU]{1})([0-9]{1})([\\s]{16})([0-9]{4})' +\n",
    "            r'([YNU]{1})([0-9\\s]{1})([BCOU]{1})([YNU]{1})([\\s]{34})([0-9\\s]{1})([0-9\\s]{1})' +\n",
    "            r'([A-Z0-9\\s]{4})([0-9]{3})([\\s]{1})([0-9\\s]{3})([0-9\\s]{3})([0-9\\s]{2})([\\s]{1})' + \n",
    "            r'([0-9\\s]{2})([A-Z0-9\\s]{7})([A-Z0-9\\s]{7})([A-Z0-9\\s]{7})([A-Z0-9\\s]{7})' + \n",
    "            r'([A-Z0-9\\s]{7})([A-Z0-9\\s]{7})([A-Z0-9\\s]{7})([A-Z0-9\\s]{7})([A-Z0-9\\s]{7})' + \n",
    "            r'([A-Z0-9\\s]{7})([A-Z0-9\\s]{7})([A-Z0-9\\s]{7})([A-Z0-9\\s]{7})([A-Z0-9\\s]{7})' + \n",
    "            r'([A-Z0-9\\s]{7})([A-Z0-9\\s]{7})([A-Z0-9\\s]{7})([A-Z0-9\\s]{7})([A-Z0-9\\s]{7})' + \n",
    "            r'([A-Z0-9\\s]{7})([\\s]{36})([A-Z0-9\\s]{2})([\\s]{1})([A-Z0-9\\s]{5})([A-Z0-9\\s]{5})' + \n",
    "            r'([A-Z0-9\\s]{5})([A-Z0-9\\s]{5})([A-Z0-9\\s]{5})([A-Z0-9\\s]{5})([A-Z0-9\\s]{5})' + \n",
    "            r'([A-Z0-9\\s]{5})([A-Z0-9\\s]{5})([A-Z0-9\\s]{5})([A-Z0-9\\s]{5})([A-Z0-9\\s]{5})' + \n",
    "            r'([A-Z0-9\\s]{5})([A-Z0-9\\s]{5})([A-Z0-9\\s]{5})([A-Z0-9\\s]{5})([A-Z0-9\\s]{5})' + \n",
    "            r'([A-Z0-9\\s]{5})([A-Z0-9\\s]{5})([A-Z0-9\\s]{5})([\\s]{1})([0-9\\s]{2})([0-9\\s]{1})' + \n",
    "            r'([0-9\\s]{1})([0-9\\s]{1})([0-9\\s]{1})([\\s]{33})([0-9\\s]{3})([0-9\\s]{1})([0-9\\s]{1})')\n",
    "    try:\n",
    "        rs = np.array(record_split.split(row))[selected_indices]\n",
    "    except:\n",
    "        rs = np.array(['-99'] * len(selected_indices))\n",
    "    return rs\n",
    "#     return record_split.split(row)"
   ]
  },
  {
   "cell_type": "code",
   "execution_count": 11,
   "metadata": {},
   "outputs": [
    {
     "data": {
      "text/plain": [
       "[array(['1', '  ', '2', '1', '01', 'M', '1', '087', ' ', '43', '23', '11',\n",
       "        '  ', '4', 'M', '4', '2014', 'U', '7', 'C', 'N', ' ', ' ', 'I64 ',\n",
       "        '238', '070', '   ', '24', '01', '11I64  ', '       ', '       ',\n",
       "        '       ', '       ', '       ', '       ', '       ', '       ',\n",
       "        '       ', '       ', '       ', '       ', '       ', '       ',\n",
       "        '       ', '       ', '       ', '       ', '       ', '01',\n",
       "        'I64  ', '     ', '     ', '     ', '     ', '     ', '     ',\n",
       "        '     ', '     ', '     ', '     ', '     ', '     ', '     ',\n",
       "        '     ', '     ', '     ', '     ', '     ', '     ', '01', ' ',\n",
       "        ' ', '1', '1', '100', '6'], dtype='<U40')]"
      ]
     },
     "execution_count": 11,
     "metadata": {},
     "output_type": "execute_result"
    }
   ],
   "source": [
    "data_from_file_conv = data_from_file.map(extractInformation)\n",
    "data_from_file_conv.map(lambda row: row).take(1)"
   ]
  },
  {
   "cell_type": "markdown",
   "metadata": {},
   "source": [
    "## 전역범위 vs 지역범위\n",
    "\n",
    "Pyspark 사용자로서 익숙해져야 할 것 중 하나는 스파크의 병렬처리다. 파이썬에 능숙하더라도 Pyspark에서 스크립트를 실행하는 것에 어려움을 느낄 수 있다.\n",
    "\n",
    "스파크는 로컬 모드와 클러스터 모드로 동작할 수 있다. 스파크가 로컬 모드로 동작할 때는 파이썬을 실행시키는 것과 다르지 않을 수도 있다. 하지만 특별한 주의 없이 클러스터모드에서 같은 코드를 실행하면 골치아픈일이 많이 생긴다. \n",
    "\n",
    "클러스터 모드에서 job이 실행되면, 그 job은 마스터 노드에 보내진다. 마스터노드는 job을 위해 DAG을 생성하고 어떤 워커 노드가 특정 태스크를 실행할지 결정한다. 그리고 드라이버는 각 태스크를 마칠 준비를 한다. 워커 노드가 태스크를 수행하고 작업을 마치면 그 결과를 마스터 노드에 리턴하도록 한다. \n",
    "\n",
    "이 변수와 함수는 내부적으로 실행 노드의 문맥 상에서 정적이다. 즉, 각자의 실행 노드가 드라이버 노드에서 사용되는 변수와 함수를 복사해 사용한다. 태스크를 실행할 때, 실행 노드가 이 변수나 함수를 수정할 경우 다른 실행 노드들의 변수나 함수에는 영향을 주지 않는다. 이로 인해 런타임 버그나 몇몇 이상 행위를 유발할 수 있는데, 보통 이러한 오류들은 굉장히 추적하기가 어렵다. \n",
    "\n",
    "추가적인 예제는 http://spark.apache.org/docs/latest/programming-guide.html#local-vs-cluster-modes"
   ]
  },
  {
   "cell_type": "markdown",
   "metadata": {},
   "source": [
    "## Transformation\n",
    "\n",
    "트랜스포메이션은 데이터셋의 형태를 만든다. 이것들은 필터링, 조인, 데이터셋 내의 값들에 대한 트랜스코딩 등을 포함한다. \n",
    "\n",
    "가능한 모든 함수는 pyspark 문서를 참고해야 한다. \n",
    "\n",
    "http://spark.apache.org/docs/latest/api/python/pyspark.html#pyspark.RDD"
   ]
  },
  {
   "cell_type": "markdown",
   "metadata": {},
   "source": [
    "### map()\n",
    "\n",
    "이 함수는 RDD의 각 엘리먼트에 적용된다. "
   ]
  },
  {
   "cell_type": "code",
   "execution_count": 12,
   "metadata": {},
   "outputs": [
    {
     "data": {
      "text/plain": [
       "[2014, 2014, 2014, 2014, 2014, 2014, 2014, 2014, 2014, -99]"
      ]
     },
     "execution_count": 12,
     "metadata": {},
     "output_type": "execute_result"
    }
   ],
   "source": [
    "data_2014 = data_from_file_conv.map(lambda row: int(row[16]))\n",
    "data_2014.take(10)"
   ]
  },
  {
   "cell_type": "markdown",
   "metadata": {},
   "source": [
    "column을 추가해보자"
   ]
  },
  {
   "cell_type": "code",
   "execution_count": 13,
   "metadata": {},
   "outputs": [
    {
     "data": {
      "text/plain": [
       "[('2014', 2014),\n",
       " ('2014', 2014),\n",
       " ('2014', 2014),\n",
       " ('2014', 2014),\n",
       " ('2014', 2014),\n",
       " ('2014', 2014),\n",
       " ('2014', 2014),\n",
       " ('2014', 2014),\n",
       " ('2014', 2014),\n",
       " ('-99', -99)]"
      ]
     },
     "execution_count": 13,
     "metadata": {},
     "output_type": "execute_result"
    }
   ],
   "source": [
    "data_2014_2 = data_from_file_conv.map(lambda row: (row[16], int(row[16])))\n",
    "data_2014_2.take(10)"
   ]
  },
  {
   "cell_type": "markdown",
   "metadata": {},
   "source": [
    "### filter()\n",
    "\n",
    "데이터 셋으로부터 특정 조건에 맞는 엘리먼트를 선택할 수 있다.\n",
    "아래 코드는 pc환경에 따라 다소 시간이 걸릴 수 있다. 개인용 pc에서는 2분 이상 걸려도 이상하지 않다"
   ]
  },
  {
   "cell_type": "code",
   "execution_count": 14,
   "metadata": {},
   "outputs": [
    {
     "data": {
      "text/plain": [
       "6"
      ]
     },
     "execution_count": 14,
     "metadata": {},
     "output_type": "execute_result"
    }
   ],
   "source": [
    "data_filtered = data_from_file_conv.filter(lambda row: row[5] == 'F' and row[21] == '0')\n",
    "data_filtered.count()"
   ]
  },
  {
   "cell_type": "code",
   "execution_count": null,
   "metadata": {},
   "outputs": [],
   "source": [
    "data_filtered.collect()"
   ]
  },
  {
   "cell_type": "markdown",
   "metadata": {},
   "source": [
    "### flatMap()"
   ]
  },
  {
   "cell_type": "markdown",
   "metadata": {},
   "source": [
    "map() 함수와 비슷하게 동작한다. 그러나 이는 리스트가 아닌 flattened result를 리턴한다. 다음 코드의 실행 결과를 data2014_2와 비교해보자"
   ]
  },
  {
   "cell_type": "code",
   "execution_count": 15,
   "metadata": {},
   "outputs": [
    {
     "data": {
      "text/plain": [
       "['2014', 2015, '2014', 2015, '2014', 2015, '2014', 2015, '2014', 2015]"
      ]
     },
     "execution_count": 15,
     "metadata": {},
     "output_type": "execute_result"
    }
   ],
   "source": [
    "data_2014_flat = data_from_file_conv.flatMap(lambda row: (row[16], int(row[16]) + 1))\n",
    "data_2014_flat.take(10)"
   ]
  },
  {
   "cell_type": "markdown",
   "metadata": {},
   "source": [
    "### distinct()\n",
    "\n",
    "이 함수는 특정 칼럼에서의 중복된 값을 제거하고, 고유한 값을 리스트로 리턴한다. 이는 데이터셋을 알아보거나 검증할 때 특히 유용하다. \n",
    "\n",
    "이 함수는 많은 자원을 사용하는 함수고, 데이터를 섞는 연산을 포함하기 때문에 정말 필요한 경우에만 사용해야 한다."
   ]
  },
  {
   "cell_type": "code",
   "execution_count": 16,
   "metadata": {},
   "outputs": [
    {
     "data": {
      "text/plain": [
       "['M', 'F', '-99']"
      ]
     },
     "execution_count": 16,
     "metadata": {},
     "output_type": "execute_result"
    }
   ],
   "source": [
    "distinct_gender = data_from_file_conv.map(lambda row: row[5]).distinct().collect()\n",
    "distinct_gender"
   ]
  },
  {
   "cell_type": "markdown",
   "metadata": {},
   "source": [
    "### sample()\n",
    "\n",
    ".sample() 함수는 데이터셋으로부터 임의로 추출된 샘플을 리턴한다.\n",
    "\n",
    "- 첫번째 파라미터 : 중복 허용 여부\n",
    "- 두번째 파라미터 : 리턴할 데이터셋과 전체 데이터셋 간의 크기 비율 (몇 퍼센트 비율의 샘플링을 원하는지)\n",
    "- 세번째 파라미터 : 임의의 숫자를 생성하기 위한 시드"
   ]
  },
  {
   "cell_type": "code",
   "execution_count": 17,
   "metadata": {},
   "outputs": [
    {
     "data": {
      "text/plain": [
       "[array(['1', '  ', '6', '1', '01', 'M', '1', '074', ' ', '40', '20', '09',\n",
       "        '  ', '6', 'D', '1', '2014', 'U', '7', 'C', 'N', ' ', ' ', 'I48 ',\n",
       "        '228', '068', '   ', '22', '03', '11I64  ', '21I48  ', '61F03  ',\n",
       "        '       ', '       ', '       ', '       ', '       ', '       ',\n",
       "        '       ', '       ', '       ', '       ', '       ', '       ',\n",
       "        '       ', '       ', '       ', '       ', '       ', '03',\n",
       "        'I48  ', 'F03  ', 'I64  ', '     ', '     ', '     ', '     ',\n",
       "        '     ', '     ', '     ', '     ', '     ', '     ', '     ',\n",
       "        '     ', '     ', '     ', '     ', '     ', '     ', '01', ' ',\n",
       "        ' ', '1', '1', '100', '6'], dtype='<U40')]"
      ]
     },
     "execution_count": 17,
     "metadata": {},
     "output_type": "execute_result"
    }
   ],
   "source": [
    "fraction = 0.1\n",
    "data_sample = data_from_file_conv.sample(False, fraction, 777)\n",
    "\n",
    "data_sample.take(1)"
   ]
  },
  {
   "cell_type": "code",
   "execution_count": 18,
   "metadata": {},
   "outputs": [
    {
     "name": "stdout",
     "output_type": "stream",
     "text": [
      "Original dataset: 2631171, sample: 263053\n"
     ]
    }
   ],
   "source": [
    "# 10% 샘플링한다\n",
    "print('Original dataset: {0}, sample: {1}'.format(data_from_file_conv.count(), data_sample.count()))"
   ]
  },
  {
   "cell_type": "markdown",
   "metadata": {},
   "source": [
    "### leftOuterJoin()\n",
    "\n",
    "두 개의 RDD를 두 개의 데이터셋에서 찾은 값에 기반해 조인하고, 왼쪽 RDD에 오른쪽 RDD가 추가된 결과를 리턴한다."
   ]
  },
  {
   "cell_type": "code",
   "execution_count": 19,
   "metadata": {},
   "outputs": [
    {
     "data": {
      "text/plain": [
       "[('a', (1, 4)), ('a', (1, 1)), ('b', (4, '6')), ('c', (10, None))]"
      ]
     },
     "execution_count": 19,
     "metadata": {},
     "output_type": "execute_result"
    }
   ],
   "source": [
    "rdd1 = sc.parallelize([('a', 1), ('b', 4), ('c',10)])\n",
    "rdd2 = sc.parallelize([('a', 4), ('a', 1), ('b', '6'), ('d', 15)])\n",
    "\n",
    "rdd3 = rdd1.leftOuterJoin(rdd2)\n",
    "rdd3.take(5)"
   ]
  },
  {
   "cell_type": "markdown",
   "metadata": {},
   "source": [
    "rdd2는 c값을 가지고 있지 않다. 그래서 None로 join되었다. d값은 rdd1에 없기 때문에 무시되었다."
   ]
  },
  {
   "cell_type": "markdown",
   "metadata": {},
   "source": [
    "만약 .join() 함수를 사용했다면, a와 b가 두 RDD의 교집합이기 때문에 a와 b만 갖게 되었을 것이다. "
   ]
  },
  {
   "cell_type": "code",
   "execution_count": 20,
   "metadata": {},
   "outputs": [
    {
     "data": {
      "text/plain": [
       "[('a', (1, 4)), ('a', (1, 1)), ('b', (4, '6'))]"
      ]
     },
     "execution_count": 20,
     "metadata": {},
     "output_type": "execute_result"
    }
   ],
   "source": [
    "rdd4 = rdd1.join(rdd2)\n",
    "rdd4.collect()"
   ]
  },
  {
   "cell_type": "markdown",
   "metadata": {},
   "source": [
    "두 RDD의 교집합 엘리먼트를 리턴하는 .intersection() 함수도 유용하다."
   ]
  },
  {
   "cell_type": "code",
   "execution_count": 21,
   "metadata": {},
   "outputs": [
    {
     "data": {
      "text/plain": [
       "[('a', 1)]"
      ]
     },
     "execution_count": 21,
     "metadata": {},
     "output_type": "execute_result"
    }
   ],
   "source": [
    "rdd5 = rdd1.intersection(rdd2)\n",
    "rdd5.collect()"
   ]
  },
  {
   "cell_type": "markdown",
   "metadata": {},
   "source": [
    "### repartition() \n",
    "\n",
    "데이터셋을 재파티션하면 데이터가 나눠지는 파티션의 개수가 바뀐다. 이 기능은 데이터를 섞어서 성능을 크게 저하시키는 요인이 되기 때문에 정말 필요할 때만 가끔 사용해야 한다."
   ]
  },
  {
   "cell_type": "code",
   "execution_count": 22,
   "metadata": {},
   "outputs": [
    {
     "data": {
      "text/plain": [
       "4"
      ]
     },
     "execution_count": 22,
     "metadata": {},
     "output_type": "execute_result"
    }
   ],
   "source": [
    "rdd1 = rdd1.repartition(4)\n",
    "# glom() 함수는 하나르 리스트를 생성한다.\n",
    "# glom()이 생성하는 리스트는 파티션 개수만큼의 엘리먼트를 가지고 있다.\n",
    "len(rdd1.glom().collect())"
   ]
  },
  {
   "cell_type": "markdown",
   "metadata": {},
   "source": [
    "## Action\n",
    "\n",
    "액션은 데이터셋에서 스케줄된 task를 실행한다. "
   ]
  },
  {
   "cell_type": "markdown",
   "metadata": {},
   "source": [
    "### .take()\n",
    "\n",
    "하나의 파티션에서 가장 위에 있는 n행을 리턴하기 때문에 RDD 전체를 리턴하는 .collect()보다 더 자주 쓰인다. 큰 데이터셋일수록 특히 중요하다"
   ]
  },
  {
   "cell_type": "code",
   "execution_count": 23,
   "metadata": {},
   "outputs": [
    {
     "data": {
      "text/plain": [
       "[array(['1', '  ', '2', '1', '01', 'M', '1', '087', ' ', '43', '23', '11',\n",
       "        '  ', '4', 'M', '4', '2014', 'U', '7', 'C', 'N', ' ', ' ', 'I64 ',\n",
       "        '238', '070', '   ', '24', '01', '11I64  ', '       ', '       ',\n",
       "        '       ', '       ', '       ', '       ', '       ', '       ',\n",
       "        '       ', '       ', '       ', '       ', '       ', '       ',\n",
       "        '       ', '       ', '       ', '       ', '       ', '01',\n",
       "        'I64  ', '     ', '     ', '     ', '     ', '     ', '     ',\n",
       "        '     ', '     ', '     ', '     ', '     ', '     ', '     ',\n",
       "        '     ', '     ', '     ', '     ', '     ', '     ', '01', ' ',\n",
       "        ' ', '1', '1', '100', '6'], dtype='<U40')]"
      ]
     },
     "execution_count": 23,
     "metadata": {},
     "output_type": "execute_result"
    }
   ],
   "source": [
    "data_first = data_from_file_conv.take(1)\n",
    "data_first"
   ]
  },
  {
   "cell_type": "markdown",
   "metadata": {},
   "source": [
    "### .reduce()"
   ]
  },
  {
   "cell_type": "markdown",
   "metadata": {},
   "source": [
    ".reduce() 함수는 특정 함수를 사용해 RDD의 개수를 줄인다. RDD의 총합을 구하기 위해 이 함수를 사용할 수 있다.\n",
    "\n",
    "reduce() 함수는 각각의 파티션에서 합계 함수를 수행하고, 마지막 집계가 수행되는 드라이버 노드에 그 합계를 리턴한다."
   ]
  },
  {
   "cell_type": "code",
   "execution_count": 24,
   "metadata": {},
   "outputs": [
    {
     "data": {
      "text/plain": [
       "15"
      ]
     },
     "execution_count": 24,
     "metadata": {},
     "output_type": "execute_result"
    }
   ],
   "source": [
    "rdd1.map(lambda row: row[1]).reduce(lambda x, y: x + y)"
   ]
  },
  {
   "cell_type": "code",
   "execution_count": 41,
   "metadata": {},
   "outputs": [
    {
     "data": {
      "text/plain": [
       "[1, 2, 0.5, 0.1, 5, 0.2]"
      ]
     },
     "execution_count": 41,
     "metadata": {},
     "output_type": "execute_result"
    }
   ],
   "source": [
    "data_reduce = sc.parallelize([1, 2, .5, .1, 5, .2], 1)\n",
    "data_reduce.collect()"
   ]
  },
  {
   "cell_type": "code",
   "execution_count": 42,
   "metadata": {},
   "outputs": [
    {
     "data": {
      "text/plain": [
       "10.0"
      ]
     },
     "execution_count": 42,
     "metadata": {},
     "output_type": "execute_result"
    }
   ],
   "source": [
    "works = data_reduce.reduce(lambda x, y: x / y)\n",
    "works"
   ]
  },
  {
   "cell_type": "markdown",
   "metadata": {},
   "source": [
    "당연히 파티션의 수가 다르면 결과가 다르게 나온다."
   ]
  },
  {
   "cell_type": "code",
   "execution_count": 26,
   "metadata": {},
   "outputs": [
    {
     "data": {
      "text/plain": [
       "0.004"
      ]
     },
     "execution_count": 26,
     "metadata": {},
     "output_type": "execute_result"
    }
   ],
   "source": [
    "data_reduce = sc.parallelize([1, 2, .5, .1, 5, .2], 3)\n",
    "data_reduce.reduce(lambda x, y: x / y)"
   ]
  },
  {
   "cell_type": "markdown",
   "metadata": {},
   "source": [
    ".reduceByKey() 함수는 .reduce() 함수와 비슷하지만 이 함수는 key값을 기반으로 reduce를 한다."
   ]
  },
  {
   "cell_type": "code",
   "execution_count": 27,
   "metadata": {},
   "outputs": [
    {
     "data": {
      "text/plain": [
       "[('b', 4), ('c', 2), ('a', 12), ('d', 5)]"
      ]
     },
     "execution_count": 27,
     "metadata": {},
     "output_type": "execute_result"
    }
   ],
   "source": [
    "data_key = sc.parallelize([('a', 4),('b', 3),('c', 2),('a', 8),('d', 2),('b', 1),('d', 3)],4)\n",
    "data_key.reduceByKey(lambda x, y: x + y).collect()"
   ]
  },
  {
   "cell_type": "markdown",
   "metadata": {},
   "source": [
    "## .count()\n",
    "\n",
    ".count() 함수는 RDD의 element 개수를 센다. "
   ]
  },
  {
   "cell_type": "code",
   "execution_count": 28,
   "metadata": {},
   "outputs": [
    {
     "data": {
      "text/plain": [
       "6"
      ]
     },
     "execution_count": 28,
     "metadata": {},
     "output_type": "execute_result"
    }
   ],
   "source": [
    "data_reduce.count()"
   ]
  },
  {
   "cell_type": "code",
   "execution_count": 40,
   "metadata": {},
   "outputs": [
    {
     "data": {
      "text/plain": [
       "[1, 2, 0.5, 0.1, 5, 0.2]"
      ]
     },
     "execution_count": 40,
     "metadata": {},
     "output_type": "execute_result"
    }
   ],
   "source": [
    "data_reduce.collect()"
   ]
  },
  {
   "cell_type": "markdown",
   "metadata": {},
   "source": [
    ".count() 함수는 다음 함수와 같은 결과를 출력하나, .count() 함수는 전체 데이터셋을 드라이버로 옮기지는 않는다."
   ]
  },
  {
   "cell_type": "code",
   "execution_count": 29,
   "metadata": {},
   "outputs": [
    {
     "data": {
      "text/plain": [
       "6"
      ]
     },
     "execution_count": 29,
     "metadata": {},
     "output_type": "execute_result"
    }
   ],
   "source": [
    "len(data_reduce.collect()) # WRONG -- DON'T DO THIS!"
   ]
  },
  {
   "cell_type": "markdown",
   "metadata": {},
   "source": [
    "데이터셋이 key-value 형태로 있으면, 고유한 키의 수를 구하기 위해 .countByKey() 함수를 사용할 수도 있다. 다음 코드를 실행해보자"
   ]
  },
  {
   "cell_type": "code",
   "execution_count": 30,
   "metadata": {},
   "outputs": [
    {
     "data": {
      "text/plain": [
       "dict_items([('a', 2), ('b', 2), ('c', 1), ('d', 2)])"
      ]
     },
     "execution_count": 30,
     "metadata": {},
     "output_type": "execute_result"
    }
   ],
   "source": [
    "data_key.countByKey().items()"
   ]
  },
  {
   "cell_type": "markdown",
   "metadata": {},
   "source": [
    "## .saveAsTextFile()"
   ]
  },
  {
   "cell_type": "markdown",
   "metadata": {},
   "source": [
    "RDD를 텍스트 파일로 저장한다.각 파티션을 분리된 파일에 저장한다.\n",
    "\n",
    "현재 파일 저장이 안되고 있다."
   ]
  },
  {
   "cell_type": "code",
   "execution_count": 31,
   "metadata": {},
   "outputs": [],
   "source": [
    "data_key.saveAsTextFile('data_key.txt')"
   ]
  },
  {
   "cell_type": "code",
   "execution_count": 32,
   "metadata": {},
   "outputs": [
    {
     "data": {
      "text/plain": [
       "[('a', 4), ('b', 3), ('c', 2), ('a', 8), ('d', 2), ('b', 1), ('d', 3)]"
      ]
     },
     "execution_count": 32,
     "metadata": {},
     "output_type": "execute_result"
    }
   ],
   "source": [
    "def parseInput(row):\n",
    "    import re\n",
    "    \n",
    "    pattern = re.compile(r'\\(\\'([a-z])\\', ([0-9])\\)')\n",
    "    row_split = pattern.split(row)\n",
    "    \n",
    "    return (row_split[1], int(row_split[2]))\n",
    "    \n",
    "data_key_reread = sc \\\n",
    "    .textFile('data_key.txt') \\\n",
    "    .map(parseInput)\n",
    "data_key_reread.collect()"
   ]
  },
  {
   "cell_type": "markdown",
   "metadata": {},
   "source": [
    "### .foreach()\n",
    "\n",
    "RDD의 각 엘리먼트에 같은 함수를 반복적으로 적용하는 함수다. 다음 코드를 실행하면 data_key RDD에 저장된 모든 데이터가 출력된다. 단 , CLI에 출력된다."
   ]
  },
  {
   "cell_type": "code",
   "execution_count": 33,
   "metadata": {},
   "outputs": [],
   "source": [
    "def f(x): \n",
    "    print(x)\n",
    "\n",
    "data_key.foreach(f)"
   ]
  },
  {
   "cell_type": "code",
   "execution_count": 1,
   "metadata": {},
   "outputs": [],
   "source": [
    "words = sc.textFile(\"obama.txt\").flatMap(lambda line: line.split(\" \"))"
   ]
  },
  {
   "cell_type": "code",
   "execution_count": 8,
   "metadata": {},
   "outputs": [],
   "source": [
    "wordCounts = words.map(lambda word: (word, 1)).reduceByKey(lambda a,b:a +b)"
   ]
  },
  {
   "cell_type": "code",
   "execution_count": 11,
   "metadata": {},
   "outputs": [
    {
     "data": {
      "text/plain": [
       "[[('Hello,', 1),\n",
       "  ('there', 9),\n",
       "  ('is', 15),\n",
       "  ('anyone', 1),\n",
       "  ('out', 3),\n",
       "  ('where', 3),\n",
       "  ('things', 2),\n",
       "  ('are', 12),\n",
       "  ('possible,', 1),\n",
       "  ('wonders', 1),\n",
       "  ('dream', 2),\n",
       "  ('of', 61),\n",
       "  ('in', 33),\n",
       "  ('questions', 1),\n",
       "  ('power', 2),\n",
       "  ('democracy,', 2),\n",
       "  ('answer.', 1),\n",
       "  ('', 54),\n",
       "  (\"It's\", 4),\n",
       "  ('told', 5),\n",
       "  ('around', 2),\n",
       "  ('schools', 2),\n",
       "  ('numbers', 1),\n",
       "  ('this', 23),\n",
       "  ('nation', 4),\n",
       "  ('never', 5),\n",
       "  ('three', 1),\n",
       "  ('hours', 1),\n",
       "  ('four', 1),\n",
       "  ('lives,', 1),\n",
       "  ('believed', 1),\n",
       "  ('must', 3),\n",
       "  ('different,', 1),\n",
       "  ('voices', 2),\n",
       "  ('difference.', 1),\n",
       "  ('spoken', 1),\n",
       "  ('young', 2),\n",
       "  ('old,', 1),\n",
       "  ('poor,', 1),\n",
       "  ('Republican,', 1),\n",
       "  ('black,', 1),\n",
       "  ('gay,', 1),\n",
       "  ('straight,', 1),\n",
       "  ('Americans', 4),\n",
       "  ('sent', 1),\n",
       "  ('world', 3),\n",
       "  ('we', 38),\n",
       "  ('have', 12),\n",
       "  ('just', 3),\n",
       "  ('collection', 2),\n",
       "  ('individuals', 1),\n",
       "  ('are,', 1),\n",
       "  ('always', 2),\n",
       "  ('United', 4),\n",
       "  ('States', 3),\n",
       "  ('led', 1),\n",
       "  ('long', 4),\n",
       "  ('cynical', 1),\n",
       "  ('doubtful', 1),\n",
       "  ('put', 2),\n",
       "  ('bend', 1),\n",
       "  ('more', 7),\n",
       "  ('toward', 1),\n",
       "  ('coming,', 1),\n",
       "  ('but', 6),\n",
       "  ('tonight,', 7),\n",
       "  ('at', 2),\n",
       "  ('change', 4),\n",
       "  ('an', 2),\n",
       "  ('extraordinarily', 1),\n",
       "  ('call', 1),\n",
       "  ('Sen.', 2),\n",
       "  ('McCain.', 1),\n",
       "  (\"Don't\", 1),\n",
       "  ('Miss', 1),\n",
       "  ('speech', 1),\n",
       "  ('African-American', 1),\n",
       "  ('Obama', 1),\n",
       "  ('grandmother', 1),\n",
       "  ('dies', 1),\n",
       "  ('before', 1),\n",
       "  ('Presidential', 1),\n",
       "  ('results', 1),\n",
       "  ('campaign.', 1),\n",
       "  ('And', 19),\n",
       "  ('even', 3),\n",
       "  ('longer', 2),\n",
       "  ('country', 1),\n",
       "  ('he', 2),\n",
       "  ('loves.', 1),\n",
       "  ('sacrifices', 1),\n",
       "  ('us', 10),\n",
       "  ('cannot', 4),\n",
       "  ('imagine.', 2),\n",
       "  ('service', 1),\n",
       "  ('brave', 2),\n",
       "  ('selfless', 1),\n",
       "  ('leader.', 1),\n",
       "  ('him;', 1),\n",
       "  ('Palin', 1),\n",
       "  ('achieved.', 1),\n",
       "  ('look', 2),\n",
       "  ('working', 2),\n",
       "  ('them', 4),\n",
       "  ('renew', 1),\n",
       "  ('months', 2),\n",
       "  ('journey,', 1),\n",
       "  ('his', 1),\n",
       "  ('spoke', 1),\n",
       "  ('women', 2),\n",
       "  ('streets', 1),\n",
       "  ('home', 1),\n",
       "  ('vice', 1),\n",
       "  ('president-elect', 1),\n",
       "  ('would', 2),\n",
       "  ('unyielding', 2),\n",
       "  ('support', 4),\n",
       "  ('best', 5),\n",
       "  ('last', 1),\n",
       "  ('16', 1),\n",
       "  ('years', 4),\n",
       "  ('family,', 1),\n",
       "  ('love', 2),\n",
       "  ('life,', 1),\n",
       "  ('lady', 1),\n",
       "  ('Obama.', 1),\n",
       "  ('both', 1),\n",
       "  ('than', 4),\n",
       "  ('earned', 1),\n",
       "  ('new', 11),\n",
       "  ('puppy', 1),\n",
       "  ('White', 2),\n",
       "  ('House.', 1),\n",
       "  ('no', 2),\n",
       "  ('know', 7),\n",
       "  ('watching,', 1),\n",
       "  ('family', 1),\n",
       "  ('tonight.', 1),\n",
       "  ('beyond', 2),\n",
       "  ('measure.', 1),\n",
       "  ('sister', 2),\n",
       "  ('Maya,', 1),\n",
       "  ('Alma,', 1),\n",
       "  ('other', 1),\n",
       "  ('am', 3),\n",
       "  ('grateful', 2),\n",
       "  ('them.', 1),\n",
       "  ('manager,', 1),\n",
       "  ('Plouffe,', 1),\n",
       "  ('hero', 1),\n",
       "  ('campaign,', 2),\n",
       "  ('political', 1),\n",
       "  ('chief', 1),\n",
       "  ('strategist', 1),\n",
       "  ('step', 1),\n",
       "  ('way.', 1),\n",
       "  ('team', 1),\n",
       "  ('ever', 1),\n",
       "  ('politics', 2),\n",
       "  ('sacrificed', 1),\n",
       "  ('done.', 1),\n",
       "  ('But', 4),\n",
       "  ('above', 2),\n",
       "  ('truly', 1),\n",
       "  ('belongs', 3),\n",
       "  ('to.', 1),\n",
       "  ('It', 8),\n",
       "  ('was', 11),\n",
       "  ('likeliest', 1),\n",
       "  ('office.', 1),\n",
       "  (\"didn't\", 3),\n",
       "  ('start', 1),\n",
       "  ('money', 1),\n",
       "  ('hatched', 1),\n",
       "  ('halls', 1),\n",
       "  ('Washington.', 1),\n",
       "  ('Des', 1),\n",
       "  ('Moines', 1),\n",
       "  ('living', 1),\n",
       "  ('rooms', 1),\n",
       "  ('Concord', 1),\n",
       "  ('dug', 1),\n",
       "  ('into', 1),\n",
       "  ('savings', 1),\n",
       "  ('give', 1),\n",
       "  ('$10', 1),\n",
       "  ('cause.', 1),\n",
       "  ('strength', 3),\n",
       "  ('homes', 1),\n",
       "  ('families', 1),\n",
       "  ('offered', 1),\n",
       "  ('pay', 2),\n",
       "  ('cold', 1),\n",
       "  ('scorching', 1),\n",
       "  ('perfect', 1),\n",
       "  ('strangers,', 1),\n",
       "  ('millions', 2),\n",
       "  ('proved', 2),\n",
       "  ('two', 3),\n",
       "  ('centuries', 1),\n",
       "  ('people,', 2),\n",
       "  ('do', 3),\n",
       "  ('win', 1),\n",
       "  ('election.', 1),\n",
       "  ('understand', 1),\n",
       "  ('task', 1),\n",
       "  ('as', 9),\n",
       "  ('challenges', 2),\n",
       "  ('tomorrow', 1),\n",
       "  ('bring', 1),\n",
       "  ('greatest', 1),\n",
       "  ('worst', 1),\n",
       "  ('financial', 2),\n",
       "  ('stand', 2),\n",
       "  ('deserts', 1),\n",
       "  ('Iraq', 1),\n",
       "  ('mountains', 1),\n",
       "  ('risk', 1),\n",
       "  ('lie', 1),\n",
       "  ('awake', 1),\n",
       "  ('after', 3),\n",
       "  ('fall', 3),\n",
       "  ('asleep', 1),\n",
       "  ('wonder', 1),\n",
       "  ('make', 4),\n",
       "  ('mortgage', 1),\n",
       "  (\"doctors'\", 1),\n",
       "  ('save', 1),\n",
       "  ('college', 1),\n",
       "  ('education.', 1),\n",
       "  (\"There's\", 1),\n",
       "  ('harness,', 1),\n",
       "  ('created,', 1),\n",
       "  ('build,', 1),\n",
       "  ('meet,', 1),\n",
       "  ('alliances', 1),\n",
       "  ('repair.', 1),\n",
       "  ('The', 1),\n",
       "  ('road', 2),\n",
       "  ('long.', 2),\n",
       "  ('climb', 1),\n",
       "  ('may', 4),\n",
       "  ('year', 1),\n",
       "  ('term.', 1),\n",
       "  ('America,', 3),\n",
       "  ('there.', 2),\n",
       "  ('setbacks', 1),\n",
       "  ('decision', 1),\n",
       "  ('policy', 1),\n",
       "  ('president.', 1),\n",
       "  ('solve', 1),\n",
       "  ('especially', 1),\n",
       "  ('when', 4),\n",
       "  ('ask', 2),\n",
       "  ('join', 1),\n",
       "  ('work', 3),\n",
       "  ('remaking', 1),\n",
       "  ('on-ly', 3),\n",
       "  ('way', 2),\n",
       "  ('221', 1),\n",
       "  ('block', 1),\n",
       "  ('block,', 1),\n",
       "  ('brick', 1),\n",
       "  ('hand.', 2),\n",
       "  ('What', 3),\n",
       "  ('21', 1),\n",
       "  ('ago', 1),\n",
       "  ('depths', 1),\n",
       "  ('end', 1),\n",
       "  ('night.', 1),\n",
       "  ('chance', 2),\n",
       "  ('happen', 2),\n",
       "  ('go', 1),\n",
       "  ('were.', 1),\n",
       "  ('spirit', 4),\n",
       "  ('service,', 1),\n",
       "  ('sacrifice.', 1),\n",
       "  ('let', 2),\n",
       "  ('summon', 1),\n",
       "  ('patriotism,', 1),\n",
       "  ('responsibility,', 1),\n",
       "  ('resolves', 1),\n",
       "  ('pitch', 1),\n",
       "  ('ourselves', 2),\n",
       "  ('Let', 1),\n",
       "  ('that,', 2),\n",
       "  ('anything,', 1),\n",
       "  ('Main', 1),\n",
       "  ('country,', 1),\n",
       "  ('people.', 1),\n",
       "  ('temptation', 1),\n",
       "  ('pettiness', 1),\n",
       "  ('state', 1),\n",
       "  ('carried', 1),\n",
       "  ('banner', 1),\n",
       "  ('Republican', 1),\n",
       "  ('House,', 1),\n",
       "  ('individual', 1),\n",
       "  ('share.', 1),\n",
       "  ('measure', 1),\n",
       "  ('humility', 1),\n",
       "  ('determination', 1),\n",
       "  ('heal', 1),\n",
       "  ('Lincoln', 1),\n",
       "  ('said', 1),\n",
       "  ('far', 1),\n",
       "  ('Though', 1),\n",
       "  ('passion', 1),\n",
       "  ('strained,', 1),\n",
       "  ('whose', 1),\n",
       "  ('yet', 1),\n",
       "  ('earn,', 1),\n",
       "  ('vote', 2),\n",
       "  ('hear', 1),\n",
       "  ('president,', 1),\n",
       "  ('too.', 1),\n",
       "  ('watching', 1),\n",
       "  ('shores,', 1),\n",
       "  ('palaces,', 1),\n",
       "  ('huddled', 1),\n",
       "  ('corners', 1),\n",
       "  ('world,', 2),\n",
       "  ('shared,', 1),\n",
       "  ('dawn', 1),\n",
       "  ('American', 3),\n",
       "  ('leadership', 1),\n",
       "  ('down:', 1),\n",
       "  ('defeat', 1),\n",
       "  ('peace', 1),\n",
       "  ('security:', 1),\n",
       "  ('burns', 1),\n",
       "  ('bright:', 1),\n",
       "  ('Tonight', 1),\n",
       "  ('true', 2),\n",
       "  ('wealth,', 1),\n",
       "  ('enduring', 1),\n",
       "  ('ideals:', 1),\n",
       "  ('opportunity', 2),\n",
       "  ('hope.', 2),\n",
       "  (\"That's\", 1),\n",
       "  ('genius', 1),\n",
       "  ('already', 1),\n",
       "  ('generations.', 1),\n",
       "  ('mind', 1),\n",
       "  ('cast', 2),\n",
       "  ('her', 6),\n",
       "  ('Atlanta.', 1),\n",
       "  ('like', 2),\n",
       "  ('others', 1),\n",
       "  ('stood', 1),\n",
       "  ('line', 1),\n",
       "  ('heard', 1),\n",
       "  ('thing:', 1),\n",
       "  ('Nixon', 2),\n",
       "  ('106', 2),\n",
       "  ('She', 2),\n",
       "  ('generation', 2),\n",
       "  ('past', 1),\n",
       "  ('planes', 1),\n",
       "  ('sky;', 1),\n",
       "  (\"couldn't\", 1),\n",
       "  ('color', 1),\n",
       "  ('think', 1),\n",
       "  ('seen', 2),\n",
       "  ('heartache', 1),\n",
       "  (\"can't,\", 2),\n",
       "  ('pressed', 1),\n",
       "  ('At', 1),\n",
       "  (\"women's\", 1),\n",
       "  ('silenced', 1),\n",
       "  ('dismissed,', 1),\n",
       "  ('lived', 1),\n",
       "  ('speak', 1),\n",
       "  ('When', 2),\n",
       "  ('bowl', 1),\n",
       "  ('land,', 1),\n",
       "  ('conquer', 1),\n",
       "  ('fear', 1),\n",
       "  ('New', 1),\n",
       "  ('jobs,', 1),\n",
       "  ('common', 1),\n",
       "  ('purpose.', 1),\n",
       "  ('tyranny', 1),\n",
       "  ('threatened', 1),\n",
       "  ('witness', 1),\n",
       "  ('saved.', 1),\n",
       "  ('buses', 1),\n",
       "  ('Birmingham,', 1),\n",
       "  ('bridge', 1),\n",
       "  ('Selma,', 1),\n",
       "  ('Atlanta', 1),\n",
       "  ('Overcome.\"', 1),\n",
       "  ('touched', 2),\n",
       "  ('down', 2),\n",
       "  ('came', 1),\n",
       "  ('Berlin,', 1),\n",
       "  ('own', 1),\n",
       "  ('science', 1),\n",
       "  ('imagination.', 1),\n",
       "  ('election,', 1),\n",
       "  ('finger', 1),\n",
       "  ('darkest', 1),\n",
       "  ('far.', 1),\n",
       "  ('much.', 1),\n",
       "  ('live', 2),\n",
       "  ('daughters', 1),\n",
       "  ('see?', 1),\n",
       "  ('progress', 1),\n",
       "  ('call.', 1),\n",
       "  ('open', 1),\n",
       "  ('prosperity', 1),\n",
       "  ('promote', 1),\n",
       "  ('cause', 1),\n",
       "  ('peace;', 1),\n",
       "  ('fundamental', 1),\n",
       "  ('truth,', 1),\n",
       "  ('many,', 1),\n",
       "  ('breathe,', 1),\n",
       "  ('tell', 1),\n",
       "  ('sums', 1),\n",
       "  ('Thank', 1),\n",
       "  ('God', 2)],\n",
       " [('Chicago.', 1),\n",
       "  ('If', 1),\n",
       "  ('who', 26),\n",
       "  ('still', 4),\n",
       "  ('doubts', 2),\n",
       "  ('that', 38),\n",
       "  ('America', 7),\n",
       "  ('a', 40),\n",
       "  ('place', 1),\n",
       "  ('all', 8),\n",
       "  ('if', 6),\n",
       "  ('the', 108),\n",
       "  ('our', 23),\n",
       "  ('founders', 1),\n",
       "  ('alive', 1),\n",
       "  ('time,', 2),\n",
       "  ('tonight', 4),\n",
       "  ('your', 6),\n",
       "  ('answer', 4),\n",
       "  ('by', 11),\n",
       "  ('lines', 1),\n",
       "  ('stretched', 1),\n",
       "  ('and', 69),\n",
       "  ('churches', 1),\n",
       "  ('has', 6),\n",
       "  ('seen,', 1),\n",
       "  ('people', 8),\n",
       "  ('waited', 1),\n",
       "  ('hours,', 2),\n",
       "  ('many', 6),\n",
       "  ('for', 27),\n",
       "  ('first', 3),\n",
       "  ('time', 5),\n",
       "  ('their', 11),\n",
       "  ('because', 6),\n",
       "  ('they', 3),\n",
       "  ('be', 13),\n",
       "  ('could', 1),\n",
       "  ('rich', 1),\n",
       "  ('Democrat', 1),\n",
       "  ('white,', 1),\n",
       "  ('Hispanic,', 1),\n",
       "  ('Asian,', 1),\n",
       "  ('Native', 1),\n",
       "  ('American,', 1),\n",
       "  ('disabled', 1),\n",
       "  ('not', 11),\n",
       "  ('disabled.', 1),\n",
       "  ('message', 1),\n",
       "  ('to', 54),\n",
       "  ('been', 6),\n",
       "  ('or', 9),\n",
       "  ('red', 1),\n",
       "  ('states', 1),\n",
       "  ('blue', 1),\n",
       "  ('states.', 1),\n",
       "  ('We', 7),\n",
       "  ('will', 18),\n",
       "  ('be,', 1),\n",
       "  ('America.', 4),\n",
       "  ('those', 9),\n",
       "  (\"who've\", 1),\n",
       "  ('so', 9),\n",
       "  ('fearful', 1),\n",
       "  ('about', 4),\n",
       "  ('what', 6),\n",
       "  ('can', 6),\n",
       "  ('achieve', 2),\n",
       "  ('hands', 1),\n",
       "  ('on', 13),\n",
       "  ('arc', 1),\n",
       "  ('history', 3),\n",
       "  ('it', 6),\n",
       "  ('on-ce', 2),\n",
       "  ('hope', 2),\n",
       "  ('better', 2),\n",
       "  ('day.', 1),\n",
       "  ('did', 2),\n",
       "  ('date', 1),\n",
       "  ('election', 5),\n",
       "  ('defining', 1),\n",
       "  ('moment', 1),\n",
       "  ('come', 2),\n",
       "  ('A', 2),\n",
       "  ('little', 3),\n",
       "  ('bit', 1),\n",
       "  ('earlier', 1),\n",
       "  ('evening,', 1),\n",
       "  ('I', 31),\n",
       "  ('received', 1),\n",
       "  ('gracious', 1),\n",
       "  ('from', 12),\n",
       "  ('votes', 2),\n",
       "  ('Transcript', 1),\n",
       "  (\"McCain's\", 1),\n",
       "  ('concession', 1),\n",
       "  ('centenarian', 1),\n",
       "  ('McCain', 1),\n",
       "  ('fought', 2),\n",
       "  ('hard', 1),\n",
       "  (\"he's\", 1),\n",
       "  ('harder', 2),\n",
       "  ('He', 1),\n",
       "  ('endured', 1),\n",
       "  ('most', 1),\n",
       "  ('begin', 1),\n",
       "  ('off', 1),\n",
       "  ('rendered', 1),\n",
       "  ('congratulate', 2),\n",
       "  ('Gov.', 1),\n",
       "  (\"they've\", 1),\n",
       "  ('forward', 1),\n",
       "  ('with', 15),\n",
       "  (\"nation's\", 2),\n",
       "  ('promise', 2),\n",
       "  ('ahead.', 2),\n",
       "  ('want', 1),\n",
       "  ('thank', 2),\n",
       "  ('my', 12),\n",
       "  ('partner', 2),\n",
       "  ('man', 3),\n",
       "  ('campaigned', 1),\n",
       "  ('heart,', 1),\n",
       "  ('men', 2),\n",
       "  ('grew', 2),\n",
       "  ('up', 4),\n",
       "  ('Scranton', 1),\n",
       "  ('rode', 1),\n",
       "  ('train', 1),\n",
       "  ('Delaware,', 1),\n",
       "  ('States,', 1),\n",
       "  ('Joe', 1),\n",
       "  ('Biden.', 1),\n",
       "  ('standing', 1),\n",
       "  ('here', 2),\n",
       "  ('without', 3),\n",
       "  ('friend', 1),\n",
       "  ('rock', 1),\n",
       "  ('next', 2),\n",
       "  ('Michelle', 1),\n",
       "  ('Sasha', 1),\n",
       "  ('Malia', 1),\n",
       "  ('you', 10),\n",
       "  (\"that's\", 2),\n",
       "  ('coming', 1),\n",
       "  ('while', 4),\n",
       "  (\"she's\", 2),\n",
       "  ('us,', 1),\n",
       "  (\"grandmother's\", 1),\n",
       "  ('along', 1),\n",
       "  ('made', 2),\n",
       "  ('me', 2),\n",
       "  ('am.', 1),\n",
       "  ('miss', 1),\n",
       "  ('debt', 1),\n",
       "  ('To', 5),\n",
       "  ('brothers', 1),\n",
       "  ('sisters,', 1),\n",
       "  ('much', 3),\n",
       "  (\"you've\", 2),\n",
       "  ('given', 1),\n",
       "  ('me.', 2),\n",
       "  ('campaign', 3),\n",
       "  ('David', 2),\n",
       "  ('unsung', 1),\n",
       "  ('built', 2),\n",
       "  ('--', 7),\n",
       "  ('think,', 1),\n",
       "  ('Axelrod', 1),\n",
       "  (\"who's\", 1),\n",
       "  ('every', 3),\n",
       "  ('assembled', 1),\n",
       "  ('happen,', 1),\n",
       "  ('forever', 1),\n",
       "  ('get', 4),\n",
       "  ('all,', 2),\n",
       "  ('forget', 1),\n",
       "  ('victory', 3),\n",
       "  ('you.', 6),\n",
       "  ('candidate', 1),\n",
       "  ('endorsements.', 1),\n",
       "  ('Our', 3),\n",
       "  ('began', 2),\n",
       "  ('backyards', 1),\n",
       "  ('front', 1),\n",
       "  ('porches', 1),\n",
       "  ('Charleston.', 1),\n",
       "  ('had', 2),\n",
       "  ('$5', 1),\n",
       "  ('$20', 1),\n",
       "  ('rejected', 1),\n",
       "  ('myth', 1),\n",
       "  (\"generation's\", 1),\n",
       "  ('apathy', 1),\n",
       "  ('left', 1),\n",
       "  ('jobs', 2),\n",
       "  ('less', 1),\n",
       "  ('sleep.', 1),\n",
       "  ('drew', 1),\n",
       "  ('not-so-young', 1),\n",
       "  ('braved', 1),\n",
       "  ('bitter', 1),\n",
       "  ('heat', 1),\n",
       "  ('knock', 1),\n",
       "  ('doors', 2),\n",
       "  ('volunteered', 1),\n",
       "  ('organized', 1),\n",
       "  ('later', 1),\n",
       "  ('government', 2),\n",
       "  ('perished', 1),\n",
       "  ('Earth.', 1),\n",
       "  ('This', 6),\n",
       "  ('victory.', 1),\n",
       "  ('You', 1),\n",
       "  ('enormity', 1),\n",
       "  ('lies', 1),\n",
       "  ('For', 1),\n",
       "  ('celebrate', 1),\n",
       "  ('lifetime', 1),\n",
       "  ('wars,', 1),\n",
       "  ('planet', 1),\n",
       "  ('peril,', 1),\n",
       "  ('crisis', 2),\n",
       "  ('century.', 1),\n",
       "  ('Even', 1),\n",
       "  ('waking', 1),\n",
       "  ('Afghanistan', 1),\n",
       "  ('lives', 1),\n",
       "  ('us.', 1),\n",
       "  ('There', 3),\n",
       "  ('mothers', 1),\n",
       "  ('fathers', 1),\n",
       "  ('children', 2),\n",
       "  ('how', 2),\n",
       "  (\"they'll\", 1),\n",
       "  ('bills', 1),\n",
       "  ('enough', 1),\n",
       "  (\"child's\", 1),\n",
       "  ('energy', 1),\n",
       "  ('threats', 1),\n",
       "  ('ahead', 1),\n",
       "  ('steep.', 1),\n",
       "  ('on-e', 6),\n",
       "  ('But,', 1),\n",
       "  ('hopeful', 1),\n",
       "  ('you,', 3),\n",
       "  ('false', 1),\n",
       "  ('starts.', 1),\n",
       "  (\"won't\", 1),\n",
       "  ('agree', 1),\n",
       "  (\"can't\", 2),\n",
       "  ('problem.', 1),\n",
       "  ('honest', 1),\n",
       "  ('face.', 1),\n",
       "  ('listen', 1),\n",
       "  ('disagree.', 1),\n",
       "  ('And,', 1),\n",
       "  ('nation,', 2),\n",
       "  (\"it's\", 2),\n",
       "  ('done', 1),\n",
       "  ('brick,', 1),\n",
       "  ('calloused', 2),\n",
       "  ('hand', 1),\n",
       "  ('winter', 1),\n",
       "  ('autumn', 1),\n",
       "  ('alone', 1),\n",
       "  ('seek.', 1),\n",
       "  ('change.', 3),\n",
       "  ('back', 4),\n",
       "  ('So', 2),\n",
       "  ('each', 2),\n",
       "  ('other.', 1),\n",
       "  ('remember', 2),\n",
       "  ('taught', 1),\n",
       "  ('thriving', 1),\n",
       "  ('Wall', 1),\n",
       "  ('Street', 2),\n",
       "  ('suffers.', 1),\n",
       "  ('In', 1),\n",
       "  ('rise', 2),\n",
       "  (\"Let's\", 2),\n",
       "  ('resist', 1),\n",
       "  ('same', 1),\n",
       "  ('partisanship', 1),\n",
       "  ('immaturity', 1),\n",
       "  ('poisoned', 1),\n",
       "  ('Party', 2),\n",
       "  ('party', 1),\n",
       "  ('founded', 1),\n",
       "  ('values', 2),\n",
       "  ('self-reliance', 1),\n",
       "  ('liberty', 1),\n",
       "  ('national', 1),\n",
       "  ('unity.', 1),\n",
       "  ('Those', 1),\n",
       "  ('Democratic', 1),\n",
       "  ('won', 2),\n",
       "  ('great', 1),\n",
       "  ('divides', 1),\n",
       "  ('held', 1),\n",
       "  ('progress.', 1),\n",
       "  ('As', 1),\n",
       "  ('divided', 1),\n",
       "  ('ours,', 1),\n",
       "  ('enemies', 1),\n",
       "  ('friends.', 1),\n",
       "  ('break', 1),\n",
       "  ('bonds', 1),\n",
       "  ('affection.', 1),\n",
       "  ('voices.', 1),\n",
       "  ('need', 1),\n",
       "  ('help.', 1),\n",
       "  ('parliaments', 1),\n",
       "  ('radios', 1),\n",
       "  ('forgotten', 1),\n",
       "  ('stories', 2),\n",
       "  ('singular,', 1),\n",
       "  ('destiny', 1),\n",
       "  ('tear', 1),\n",
       "  ('seek', 1),\n",
       "  ('wondered', 1),\n",
       "  (\"America's\", 1),\n",
       "  ('beacon', 1),\n",
       "  ('comes', 1),\n",
       "  ('might', 1),\n",
       "  ('arms', 1),\n",
       "  ('scale', 1),\n",
       "  ('liberty,', 1),\n",
       "  ('America:', 1),\n",
       "  ('union', 1),\n",
       "  ('perfected.', 1),\n",
       "  (\"we've\", 1),\n",
       "  ('achieved', 1),\n",
       "  ('gives', 1),\n",
       "  ('tomorrow.', 1),\n",
       "  ('firsts', 1),\n",
       "  (\"tonight's\", 1),\n",
       "  ('woman', 2),\n",
       "  ('ballot', 1),\n",
       "  (\"She's\", 1),\n",
       "  ('lot', 1),\n",
       "  ('voice', 1),\n",
       "  ('except', 1),\n",
       "  ('Ann', 2),\n",
       "  ('Cooper', 1),\n",
       "  ('old.', 1),\n",
       "  ('born', 1),\n",
       "  ('slavery;', 1),\n",
       "  ('were', 3),\n",
       "  ('cars', 1),\n",
       "  ('someone', 1),\n",
       "  ('reasons', 1),\n",
       "  ('she', 6),\n",
       "  ('skin.', 1),\n",
       "  ('throughout', 1),\n",
       "  ('century', 1),\n",
       "  ('hope;', 1),\n",
       "  ('struggle', 1),\n",
       "  ('progress;', 1),\n",
       "  ('times', 2),\n",
       "  ('creed:', 1),\n",
       "  ('Yes', 6),\n",
       "  ('can.', 7),\n",
       "  ('hopes', 1),\n",
       "  ('see', 2),\n",
       "  ('reach', 1),\n",
       "  ('ballot.', 1),\n",
       "  ('despair', 1),\n",
       "  ('dust', 1),\n",
       "  ('depression', 1),\n",
       "  ('across', 1),\n",
       "  ('saw', 1),\n",
       "  ('itself', 1),\n",
       "  ('Deal,', 1),\n",
       "  ('sense', 1),\n",
       "  ('bombs', 1),\n",
       "  ('fell', 1),\n",
       "  ('harbor', 1),\n",
       "  ('greatness', 1),\n",
       "  ('democracy', 1),\n",
       "  ('Montgomery,', 1),\n",
       "  ('hoses', 1),\n",
       "  ('preacher', 1),\n",
       "  ('\"We', 1),\n",
       "  ('Shall', 1),\n",
       "  ('moon,', 1),\n",
       "  ('wall', 1),\n",
       "  ('connected', 1),\n",
       "  ('year,', 1),\n",
       "  ('screen,', 1),\n",
       "  ('vote,', 1),\n",
       "  ('through', 1),\n",
       "  ('knows', 1),\n",
       "  ('do.', 1),\n",
       "  ('should', 2),\n",
       "  ('century;', 1),\n",
       "  ('lucky', 1),\n",
       "  ('Cooper,', 1),\n",
       "  ('made?', 1),\n",
       "  ('moment.', 1),\n",
       "  ('kids;', 1),\n",
       "  ('restore', 1),\n",
       "  ('reclaim', 1),\n",
       "  ('reaffirm', 1),\n",
       "  ('on-e;', 1),\n",
       "  ('met', 1),\n",
       "  ('cynicism', 1),\n",
       "  ('respond', 1),\n",
       "  ('timeless', 1),\n",
       "  ('creed', 1),\n",
       "  ('people:', 1),\n",
       "  ('Yes,', 1),\n",
       "  ('bless', 2)]]"
      ]
     },
     "execution_count": 11,
     "metadata": {},
     "output_type": "execute_result"
    }
   ],
   "source": [
    "wordCounts.glom().collect()"
   ]
  },
  {
   "cell_type": "code",
   "execution_count": 37,
   "metadata": {},
   "outputs": [
    {
     "data": {
      "text/plain": [
       "[('', 54),\n",
       " ('\"We', 1),\n",
       " ('$10', 1),\n",
       " ('$20', 1),\n",
       " ('$5', 1),\n",
       " ('--', 7),\n",
       " ('106', 2),\n",
       " ('16', 1),\n",
       " ('21', 1),\n",
       " ('221', 1)]"
      ]
     },
     "execution_count": 37,
     "metadata": {},
     "output_type": "execute_result"
    }
   ],
   "source": [
    "wordCounts.takeOrdered(10)"
   ]
  },
  {
   "cell_type": "code",
   "execution_count": null,
   "metadata": {},
   "outputs": [],
   "source": []
  }
 ],
 "metadata": {
  "kernelspec": {
   "display_name": "Python 3",
   "language": "python",
   "name": "python3"
  },
  "language_info": {
   "codemirror_mode": {
    "name": "ipython",
    "version": 3
   },
   "file_extension": ".py",
   "mimetype": "text/x-python",
   "name": "python",
   "nbconvert_exporter": "python",
   "pygments_lexer": "ipython3",
   "version": "3.7.4"
  }
 },
 "nbformat": 4,
 "nbformat_minor": 4
}
